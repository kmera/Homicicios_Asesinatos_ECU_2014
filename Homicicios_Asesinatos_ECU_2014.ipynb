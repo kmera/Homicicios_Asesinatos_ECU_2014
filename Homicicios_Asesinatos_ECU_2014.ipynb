{
 "cells": [
  {
   "cell_type": "markdown",
   "metadata": {},
   "source": [
    "# 📊 Homicidios y asesinatos - Ministerio del Interior\n",
    "\n",
    "En este notebook se realizará un análisis exploratorio de los datos abiertos obtenidos del Ministerio de Interior del Ecuador respecto a los homiciodios y asesinatos registrados en el 2014.\n",
    "\n",
    "## 1. Definción del Problema\n",
    "\n",
    "> Mediante el análisis exploratorios se responderán a algunas preguntas tales como:\n",
    "  Cantidad de asesinatos por ubicación, sexo, tipo de muerte y en diferentes periodos     de tiempo.\n",
    "\n",
    "\n",
    "## 2. Datos\n",
    "\n",
    "Existe un archivo con información referente a los levantamientos de cadaver que han sido determinados como homicidios y asesinatos en el 2014 Homicidios y asesinatos - Ministerio del Interior que puede ser descargado en el siguiente [link de Datos Abiertos del Ecuador](http://catalogo.datosabiertos.gob.ec/dataset/homicidios-y-asesinatos). \n",
    "\n",
    "Este archivo está estructurado de la siguiente manera: \n",
    "\n",
    "* Núm. de observaciones: \t1309\n",
    "* Núm de atributos: \t\t12"
   ]
  },
  {
   "cell_type": "code",
   "execution_count": 1,
   "metadata": {},
   "outputs": [],
   "source": [
    "# importar librerias\n",
    "import pandas as pd\n",
    "import numpy as np\n",
    "import matplotlib.pyplot as plt\n",
    "import seaborn as sns\n",
    "%matplotlib inline"
   ]
  },
  {
   "cell_type": "code",
   "execution_count": 2,
   "metadata": {},
   "outputs": [
    {
     "data": {
      "text/html": [
       "<div>\n",
       "<style scoped>\n",
       "    .dataframe tbody tr th:only-of-type {\n",
       "        vertical-align: middle;\n",
       "    }\n",
       "\n",
       "    .dataframe tbody tr th {\n",
       "        vertical-align: top;\n",
       "    }\n",
       "\n",
       "    .dataframe thead th {\n",
       "        text-align: right;\n",
       "    }\n",
       "</style>\n",
       "<table border=\"1\" class=\"dataframe\">\n",
       "  <thead>\n",
       "    <tr style=\"text-align: right;\">\n",
       "      <th></th>\n",
       "      <th>Zona</th>\n",
       "      <th>Provincia</th>\n",
       "      <th>Canton</th>\n",
       "      <th>Distrito</th>\n",
       "      <th>Circuito</th>\n",
       "      <th>Fecha Infraccion</th>\n",
       "      <th>Hora Infraccion</th>\n",
       "      <th>tipo_muert_matriz</th>\n",
       "      <th>Edad</th>\n",
       "      <th>Sexo</th>\n",
       "      <th>Estado Civil</th>\n",
       "      <th>Nacionalidad</th>\n",
       "    </tr>\n",
       "  </thead>\n",
       "  <tbody>\n",
       "    <tr>\n",
       "      <th>0</th>\n",
       "      <td>ZONA 1</td>\n",
       "      <td>ESMERALDAS</td>\n",
       "      <td>ESMERALDAS</td>\n",
       "      <td>ESMERALDAS</td>\n",
       "      <td>CENTRO</td>\n",
       "      <td>2014-04-30</td>\n",
       "      <td>13:40</td>\n",
       "      <td>Homicidios</td>\n",
       "      <td>22.0</td>\n",
       "      <td>MASCULINO</td>\n",
       "      <td>SOLTERO</td>\n",
       "      <td>ECUADOR</td>\n",
       "    </tr>\n",
       "    <tr>\n",
       "      <th>1</th>\n",
       "      <td>ZONA 6</td>\n",
       "      <td>AZUAY</td>\n",
       "      <td>SEVILLA_DE_ORO</td>\n",
       "      <td>PAUTE</td>\n",
       "      <td>SEVILLA DE ORO</td>\n",
       "      <td>2014-04-30</td>\n",
       "      <td>NaN</td>\n",
       "      <td>Homicidios</td>\n",
       "      <td>51.0</td>\n",
       "      <td>MASCULINO</td>\n",
       "      <td>SOLTERO</td>\n",
       "      <td>ECUADOR</td>\n",
       "    </tr>\n",
       "    <tr>\n",
       "      <th>2</th>\n",
       "      <td>ZONA 5</td>\n",
       "      <td>LOS_RIOS</td>\n",
       "      <td>QUEVEDO</td>\n",
       "      <td>QUEVEDO</td>\n",
       "      <td>DIVINO NIÑO</td>\n",
       "      <td>2014-02-05</td>\n",
       "      <td>4:30</td>\n",
       "      <td>Femicidios</td>\n",
       "      <td>36.0</td>\n",
       "      <td>FEMENINO</td>\n",
       "      <td>SOLTERO</td>\n",
       "      <td>ECUADOR</td>\n",
       "    </tr>\n",
       "    <tr>\n",
       "      <th>3</th>\n",
       "      <td>ZONA 8</td>\n",
       "      <td>GUAYAS</td>\n",
       "      <td>GUAYAQUIL</td>\n",
       "      <td>FLORIDA</td>\n",
       "      <td>MAPASINGUE</td>\n",
       "      <td>2014-02-05</td>\n",
       "      <td>1:00</td>\n",
       "      <td>Asesinatos</td>\n",
       "      <td>17.0</td>\n",
       "      <td>MASCULINO</td>\n",
       "      <td>SOLTERO</td>\n",
       "      <td>ECUADOR</td>\n",
       "    </tr>\n",
       "    <tr>\n",
       "      <th>4</th>\n",
       "      <td>ZONA 7</td>\n",
       "      <td>LOJA</td>\n",
       "      <td>GONZANAMA</td>\n",
       "      <td>CALVAS</td>\n",
       "      <td>GONZANAMA</td>\n",
       "      <td>2014-03-05</td>\n",
       "      <td>19:50</td>\n",
       "      <td>Asesinatos</td>\n",
       "      <td>20.0</td>\n",
       "      <td>MASCULINO</td>\n",
       "      <td>SOLTERO</td>\n",
       "      <td>ECUADOR</td>\n",
       "    </tr>\n",
       "  </tbody>\n",
       "</table>\n",
       "</div>"
      ],
      "text/plain": [
       "     Zona   Provincia          Canton    Distrito        Circuito  \\\n",
       "0  ZONA 1  ESMERALDAS      ESMERALDAS  ESMERALDAS          CENTRO   \n",
       "1  ZONA 6       AZUAY  SEVILLA_DE_ORO       PAUTE  SEVILLA DE ORO   \n",
       "2  ZONA 5    LOS_RIOS         QUEVEDO     QUEVEDO     DIVINO NIÑO   \n",
       "3  ZONA 8      GUAYAS       GUAYAQUIL     FLORIDA      MAPASINGUE   \n",
       "4  ZONA 7        LOJA       GONZANAMA      CALVAS       GONZANAMA   \n",
       "\n",
       "  Fecha Infraccion Hora Infraccion tipo_muert_matriz  Edad       Sexo  \\\n",
       "0       2014-04-30           13:40        Homicidios  22.0  MASCULINO   \n",
       "1       2014-04-30             NaN        Homicidios  51.0  MASCULINO   \n",
       "2       2014-02-05            4:30        Femicidios  36.0   FEMENINO   \n",
       "3       2014-02-05            1:00        Asesinatos  17.0  MASCULINO   \n",
       "4       2014-03-05           19:50        Asesinatos  20.0  MASCULINO   \n",
       "\n",
       "  Estado Civil Nacionalidad  \n",
       "0      SOLTERO      ECUADOR  \n",
       "1      SOLTERO      ECUADOR  \n",
       "2      SOLTERO      ECUADOR  \n",
       "3      SOLTERO      ECUADOR  \n",
       "4      SOLTERO      ECUADOR  "
      ]
     },
     "execution_count": 2,
     "metadata": {},
     "output_type": "execute_result"
    }
   ],
   "source": [
    "# Importar homicidios.csv\n",
    "homicidios_ecu = pd.read_csv(\"homicidios.csv\", parse_dates=[\"Fecha Infraccion\"])\n",
    "homicidios_ecu.drop(\"Unnamed: 0\", 1, inplace=True)\n",
    "homicidios_ecu.head()"
   ]
  },
  {
   "cell_type": "markdown",
   "metadata": {},
   "source": [
    "## EDA (Análisis Exploratorio de Datos)"
   ]
  },
  {
   "cell_type": "code",
   "execution_count": 3,
   "metadata": {},
   "outputs": [
    {
     "name": "stdout",
     "output_type": "stream",
     "text": [
      "<class 'pandas.core.frame.DataFrame'>\n",
      "RangeIndex: 1309 entries, 0 to 1308\n",
      "Data columns (total 12 columns):\n",
      " #   Column             Non-Null Count  Dtype         \n",
      "---  ------             --------------  -----         \n",
      " 0   Zona               1309 non-null   object        \n",
      " 1   Provincia          1309 non-null   object        \n",
      " 2   Canton             1309 non-null   object        \n",
      " 3   Distrito           1309 non-null   object        \n",
      " 4   Circuito           1309 non-null   object        \n",
      " 5   Fecha Infraccion   1309 non-null   datetime64[ns]\n",
      " 6   Hora Infraccion    1298 non-null   object        \n",
      " 7   tipo_muert_matriz  1309 non-null   object        \n",
      " 8   Edad               1284 non-null   float64       \n",
      " 9   Sexo               1309 non-null   object        \n",
      " 10  Estado Civil       1309 non-null   object        \n",
      " 11  Nacionalidad       1309 non-null   object        \n",
      "dtypes: datetime64[ns](1), float64(1), object(10)\n",
      "memory usage: 122.8+ KB\n"
     ]
    }
   ],
   "source": [
    "# Información básica acerca del dataframe\n",
    "homicidios_ecu.info()"
   ]
  },
  {
   "cell_type": "markdown",
   "metadata": {},
   "source": [
    "Este dataframe tiene 1309 observarciones y 12 columnas. La mayoría de variables son del tipo `object`, excepto `Fecha Infraccion` que es del tipo datetime y `Edad` que es del tipo float."
   ]
  },
  {
   "cell_type": "code",
   "execution_count": 4,
   "metadata": {},
   "outputs": [
    {
     "data": {
      "text/plain": [
       "Zona                 0.000000\n",
       "Provincia            0.000000\n",
       "Canton               0.000000\n",
       "Distrito             0.000000\n",
       "Circuito             0.000000\n",
       "Fecha Infraccion     0.000000\n",
       "Hora Infraccion      0.008403\n",
       "tipo_muert_matriz    0.000000\n",
       "Edad                 0.019099\n",
       "Sexo                 0.000000\n",
       "Estado Civil         0.000000\n",
       "Nacionalidad         0.000000\n",
       "dtype: float64"
      ]
     },
     "execution_count": 4,
     "metadata": {},
     "output_type": "execute_result"
    }
   ],
   "source": [
    "# Revisión de Missing Values\n",
    "homicidios_ecu.isna().sum()/len(homicidios_ecu)"
   ]
  },
  {
   "cell_type": "markdown",
   "metadata": {},
   "source": [
    "Solamente las variables `Hora Infraccion` y `Edad` tienen missing values; sin embargo, la cantidad es baja ya que apenas representan el 0.84% y 1.9% respectivamente."
   ]
  },
  {
   "cell_type": "code",
   "execution_count": 5,
   "metadata": {},
   "outputs": [
    {
     "data": {
      "text/plain": [
       "count    1284.000000\n",
       "mean       34.323209\n",
       "std        15.086988\n",
       "min         0.000000\n",
       "25%        24.000000\n",
       "50%        31.000000\n",
       "75%        42.000000\n",
       "max        92.000000\n",
       "Name: Edad, dtype: float64"
      ]
     },
     "execution_count": 5,
     "metadata": {},
     "output_type": "execute_result"
    }
   ],
   "source": [
    "# Sumario estadístico de la variable cuantitativa 'Edad'\n",
    "homicidios_ecu[\"Edad\"].describe()"
   ]
  },
  {
   "cell_type": "markdown",
   "metadata": {},
   "source": [
    "En el 2014, en promedio, la edad de las personas asesinadas fue de 34.23 años."
   ]
  },
  {
   "cell_type": "code",
   "execution_count": 6,
   "metadata": {},
   "outputs": [
    {
     "data": {
      "image/png": "[encoded data removed]",
      "text/plain": [
       "<Figure size 432x288 with 1 Axes>"
      ]
     },
     "metadata": {
      "needs_background": "light"
     },
     "output_type": "display_data"
    }
   ],
   "source": [
    "# Gráfico de la distribución de la variable 'Edad'\n",
    "sns.distplot(homicidios_ecu.Edad)\n",
    "\n",
    "plt.title(\"Fig1. Distribución de la Edad\")\n",
    "plt.xlabel(\"Edad\");"
   ]
  },
  {
   "cell_type": "markdown",
   "metadata": {},
   "source": [
    "La variable `Edad` es right skewed, como se aprecia en la Figura 1."
   ]
  },
  {
   "cell_type": "code",
   "execution_count": 7,
   "metadata": {},
   "outputs": [
    {
     "data": {
      "text/plain": [
       "1280   2014-12-30\n",
       "1297   2014-12-31\n",
       "1278   2014-12-31\n",
       "1277   2014-12-31\n",
       "1276   2014-12-31\n",
       "1275   2014-12-31\n",
       "1274   2014-12-31\n",
       "1273   2014-12-31\n",
       "1272   2014-12-31\n",
       "1296   2014-12-31\n",
       "Name: Fecha Infraccion, dtype: datetime64[ns]"
      ]
     },
     "execution_count": 7,
     "metadata": {},
     "output_type": "execute_result"
    }
   ],
   "source": [
    "# Ordernar el dataframe por fecha\n",
    "homicidios_ecu.sort_values(by = [\"Fecha Infraccion\"], inplace=True, ascending=True)\n",
    "homicidios_ecu[\"Fecha Infraccion\"].tail(10)"
   ]
  },
  {
   "cell_type": "code",
   "execution_count": 8,
   "metadata": {},
   "outputs": [
    {
     "data": {
      "text/html": [
       "<div>\n",
       "<style scoped>\n",
       "    .dataframe tbody tr th:only-of-type {\n",
       "        vertical-align: middle;\n",
       "    }\n",
       "\n",
       "    .dataframe tbody tr th {\n",
       "        vertical-align: top;\n",
       "    }\n",
       "\n",
       "    .dataframe thead th {\n",
       "        text-align: right;\n",
       "    }\n",
       "</style>\n",
       "<table border=\"1\" class=\"dataframe\">\n",
       "  <thead>\n",
       "    <tr style=\"text-align: right;\">\n",
       "      <th></th>\n",
       "      <th>Zona</th>\n",
       "      <th>Provincia</th>\n",
       "      <th>Canton</th>\n",
       "      <th>Distrito</th>\n",
       "      <th>Circuito</th>\n",
       "      <th>Fecha Infraccion</th>\n",
       "      <th>Hora Infraccion</th>\n",
       "      <th>tipo_muert_matriz</th>\n",
       "      <th>Edad</th>\n",
       "      <th>Sexo</th>\n",
       "      <th>Estado Civil</th>\n",
       "      <th>Nacionalidad</th>\n",
       "      <th>Año_Infraccion</th>\n",
       "      <th>Mes_Infraccion</th>\n",
       "      <th>Dia_Infraccion</th>\n",
       "    </tr>\n",
       "  </thead>\n",
       "  <tbody>\n",
       "    <tr>\n",
       "      <th>972</th>\n",
       "      <td>ZONA 5</td>\n",
       "      <td>LOS_RIOS</td>\n",
       "      <td>QUEVEDO</td>\n",
       "      <td>QUEVEDO</td>\n",
       "      <td>7 DE OCTUBRE</td>\n",
       "      <td>2014-01-01</td>\n",
       "      <td>4:00</td>\n",
       "      <td>Asesinatos</td>\n",
       "      <td>30.0</td>\n",
       "      <td>MASCULINO</td>\n",
       "      <td>SOLTERO</td>\n",
       "      <td>ECUADOR</td>\n",
       "      <td>2014</td>\n",
       "      <td>1</td>\n",
       "      <td>2</td>\n",
       "    </tr>\n",
       "    <tr>\n",
       "      <th>268</th>\n",
       "      <td>ZONA 1</td>\n",
       "      <td>CARCHI</td>\n",
       "      <td>TULCAN</td>\n",
       "      <td>TULCAN</td>\n",
       "      <td>JULIO ANDRADE</td>\n",
       "      <td>2014-01-01</td>\n",
       "      <td>3:00</td>\n",
       "      <td>Homicidios</td>\n",
       "      <td>34.0</td>\n",
       "      <td>MASCULINO</td>\n",
       "      <td>SOLTERO</td>\n",
       "      <td>ECUADOR</td>\n",
       "      <td>2014</td>\n",
       "      <td>1</td>\n",
       "      <td>2</td>\n",
       "    </tr>\n",
       "    <tr>\n",
       "      <th>230</th>\n",
       "      <td>ZONA 1</td>\n",
       "      <td>SUCUMBIOS</td>\n",
       "      <td>LAGO_AGRIO</td>\n",
       "      <td>LAGO AGRIO</td>\n",
       "      <td>GENERAL FARFAN</td>\n",
       "      <td>2014-01-01</td>\n",
       "      <td>1:00</td>\n",
       "      <td>Asesinatos</td>\n",
       "      <td>80.0</td>\n",
       "      <td>MASCULINO</td>\n",
       "      <td>VIUDO</td>\n",
       "      <td>ECUADOR</td>\n",
       "      <td>2014</td>\n",
       "      <td>1</td>\n",
       "      <td>2</td>\n",
       "    </tr>\n",
       "    <tr>\n",
       "      <th>270</th>\n",
       "      <td>ZONA 1</td>\n",
       "      <td>CARCHI</td>\n",
       "      <td>TULCAN</td>\n",
       "      <td>TULCAN</td>\n",
       "      <td>KENNEDY</td>\n",
       "      <td>2014-01-01</td>\n",
       "      <td>7:00</td>\n",
       "      <td>Homicidios</td>\n",
       "      <td>26.0</td>\n",
       "      <td>MASCULINO</td>\n",
       "      <td>SOLTERO</td>\n",
       "      <td>ECUADOR</td>\n",
       "      <td>2014</td>\n",
       "      <td>1</td>\n",
       "      <td>2</td>\n",
       "    </tr>\n",
       "    <tr>\n",
       "      <th>346</th>\n",
       "      <td>ZONA 3</td>\n",
       "      <td>CHIMBORAZO</td>\n",
       "      <td>RIOBAMBA</td>\n",
       "      <td>RIOBAMBA</td>\n",
       "      <td>LA CONDAMINE</td>\n",
       "      <td>2014-01-01</td>\n",
       "      <td>9:00</td>\n",
       "      <td>Asesinatos</td>\n",
       "      <td>31.0</td>\n",
       "      <td>MASCULINO</td>\n",
       "      <td>SOLTERO</td>\n",
       "      <td>ECUADOR</td>\n",
       "      <td>2014</td>\n",
       "      <td>1</td>\n",
       "      <td>2</td>\n",
       "    </tr>\n",
       "  </tbody>\n",
       "</table>\n",
       "</div>"
      ],
      "text/plain": [
       "       Zona   Provincia      Canton    Distrito        Circuito  \\\n",
       "972  ZONA 5    LOS_RIOS     QUEVEDO     QUEVEDO    7 DE OCTUBRE   \n",
       "268  ZONA 1      CARCHI      TULCAN      TULCAN   JULIO ANDRADE   \n",
       "230  ZONA 1   SUCUMBIOS  LAGO_AGRIO  LAGO AGRIO  GENERAL FARFAN   \n",
       "270  ZONA 1      CARCHI      TULCAN      TULCAN         KENNEDY   \n",
       "346  ZONA 3  CHIMBORAZO    RIOBAMBA    RIOBAMBA    LA CONDAMINE   \n",
       "\n",
       "    Fecha Infraccion Hora Infraccion tipo_muert_matriz  Edad       Sexo  \\\n",
       "972       2014-01-01            4:00        Asesinatos  30.0  MASCULINO   \n",
       "268       2014-01-01            3:00        Homicidios  34.0  MASCULINO   \n",
       "230       2014-01-01            1:00        Asesinatos  80.0  MASCULINO   \n",
       "270       2014-01-01            7:00        Homicidios  26.0  MASCULINO   \n",
       "346       2014-01-01            9:00        Asesinatos  31.0  MASCULINO   \n",
       "\n",
       "    Estado Civil Nacionalidad  Año_Infraccion  Mes_Infraccion  Dia_Infraccion  \n",
       "972      SOLTERO      ECUADOR            2014               1               2  \n",
       "268      SOLTERO      ECUADOR            2014               1               2  \n",
       "230        VIUDO      ECUADOR            2014               1               2  \n",
       "270      SOLTERO      ECUADOR            2014               1               2  \n",
       "346      SOLTERO      ECUADOR            2014               1               2  "
      ]
     },
     "execution_count": 8,
     "metadata": {},
     "output_type": "execute_result"
    }
   ],
   "source": [
    "# Incluir atributos de fecha respecto a la variable 'Fecha Infraccion'\n",
    "homicidios_ecu[\"Año_Infraccion\"] = homicidios_ecu[\"Fecha Infraccion\"].dt.year\n",
    "homicidios_ecu[\"Mes_Infraccion\"] = homicidios_ecu[\"Fecha Infraccion\"].dt.month\n",
    "homicidios_ecu[\"Dia_Infraccion\"] = homicidios_ecu[\"Fecha Infraccion\"].dt.dayofweek\n",
    "\n",
    "homicidios_ecu.head()"
   ]
  },
  {
   "cell_type": "markdown",
   "metadata": {},
   "source": [
    "## Cantidad de homicidios por Provincia"
   ]
  },
  {
   "cell_type": "code",
   "execution_count": 9,
   "metadata": {},
   "outputs": [
    {
     "data": {
      "text/plain": [
       "GUAYAS                            383\n",
       "PICHINCHA                         167\n",
       "LOS_RIOS                          141\n",
       "ESMERALDAS                        132\n",
       "MANABI                             91\n",
       "EL_ORO                             78\n",
       "SANTO_DOMINGO_DE_LOS_TSACHILAS     53\n",
       "SUCUMBIOS                          45\n",
       "AZUAY                              37\n",
       "ORELLANA                           23\n",
       "IMBABURA                           23\n",
       "CANAR                              21\n",
       "LOJA                               17\n",
       "COTOPAXI                           16\n",
       "CHIMBORAZO                         15\n",
       "TUNGURAHUA                         11\n",
       "BOLIVAR                            10\n",
       "NAPO                               10\n",
       "SANTA_ELENA                         9\n",
       "CARCHI                              9\n",
       "PASTAZA                             7\n",
       "MORONA_SANTIAGO                     7\n",
       "ZAMORA_CHINCHIPE                    4\n",
       "Name: Provincia, dtype: int64"
      ]
     },
     "execution_count": 9,
     "metadata": {},
     "output_type": "execute_result"
    }
   ],
   "source": [
    "homicidios_ecu[\"Provincia\"].value_counts()"
   ]
  },
  {
   "cell_type": "markdown",
   "metadata": {},
   "source": [
    "Las tres provincias con mayor número de asesinatos en el 2014 fueron: Guayas, Pichincha y Los Rios."
   ]
  },
  {
   "cell_type": "code",
   "execution_count": 10,
   "metadata": {},
   "outputs": [
    {
     "data": {
      "image/png": "[encoded data removed]",
      "text/plain": [
       "<Figure size 432x288 with 1 Axes>"
      ]
     },
     "metadata": {
      "needs_background": "light"
     },
     "output_type": "display_data"
    }
   ],
   "source": [
    "# Barplot de homicidios por Sexo\n",
    "homicidios_ecu[\"Provincia\"].value_counts().head(10).sort_values(ascending=True).plot(kind=\"barh\")\n",
    "plt.title(\"Fig2. Topten Homicidios por Provincia\");"
   ]
  },
  {
   "cell_type": "markdown",
   "metadata": {},
   "source": [
    "La figura 2 muestra las 10 provincias con mayor número de asesinatos."
   ]
  },
  {
   "cell_type": "markdown",
   "metadata": {},
   "source": [
    "## Cantidad de homicidios por Sexo"
   ]
  },
  {
   "cell_type": "code",
   "execution_count": 11,
   "metadata": {},
   "outputs": [
    {
     "data": {
      "text/plain": [
       "MASCULINO    1123\n",
       "FEMENINO      186\n",
       "Name: Sexo, dtype: int64"
      ]
     },
     "execution_count": 11,
     "metadata": {},
     "output_type": "execute_result"
    }
   ],
   "source": [
    "homicidios_ecu[\"Sexo\"].value_counts()"
   ]
  },
  {
   "cell_type": "markdown",
   "metadata": {},
   "source": [
    "Han sido asesinados 1123 hombres y 186 mujeres."
   ]
  },
  {
   "cell_type": "code",
   "execution_count": 12,
   "metadata": {},
   "outputs": [
    {
     "data": {
      "image/png": "[encoded data removed]",
      "text/plain": [
       "<Figure size 432x288 with 1 Axes>"
      ]
     },
     "metadata": {
      "needs_background": "light"
     },
     "output_type": "display_data"
    }
   ],
   "source": [
    "# Barplot de homicidios por Sexo\n",
    "homicidios_ecu[\"Sexo\"].value_counts().plot(kind=\"bar\", color=['green', 'pink'])\n",
    "plt.title(\"Fig3. Cantidad de Homicidios por Sexo\")\n",
    "plt.xlabel(\"Sexo\");"
   ]
  },
  {
   "cell_type": "markdown",
   "metadata": {},
   "source": [
    "Fueron mas los casos de asesinatos de hombres que de mujeres en el 2014."
   ]
  },
  {
   "cell_type": "markdown",
   "metadata": {},
   "source": [
    "## Cantidad de homicidios por Tipo de Muerte"
   ]
  },
  {
   "cell_type": "code",
   "execution_count": 13,
   "metadata": {},
   "outputs": [
    {
     "data": {
      "text/plain": [
       "Asesinatos    840\n",
       "Homicidios    407\n",
       "Femicidios     32\n",
       "Sicariatos     30\n",
       "Name: tipo_muert_matriz, dtype: int64"
      ]
     },
     "execution_count": 13,
     "metadata": {},
     "output_type": "execute_result"
    }
   ],
   "source": [
    "homicidios_ecu[\"tipo_muert_matriz\"].value_counts()"
   ]
  },
  {
   "cell_type": "code",
   "execution_count": 14,
   "metadata": {},
   "outputs": [
    {
     "data": {
      "image/png": "[encoded data removed]",
      "text/plain": [
       "<Figure size 432x288 with 1 Axes>"
      ]
     },
     "metadata": {
      "needs_background": "light"
     },
     "output_type": "display_data"
    }
   ],
   "source": [
    "# Barplot de homicidios por Tipo de Muerte\n",
    "homicidios_ecu[\"tipo_muert_matriz\"].value_counts().plot(kind=\"bar\", color=['magenta', 'blue', 'yellow', 'green'])\n",
    "plt.title(\"Fig4. Cantidad de Homicidios por Tipo\");"
   ]
  },
  {
   "cell_type": "markdown",
   "metadata": {},
   "source": [
    "Respecto al tipo de muerte, los asesinatos fueron los que mayor cantidad presentaron en el 2014."
   ]
  },
  {
   "cell_type": "markdown",
   "metadata": {},
   "source": [
    "## Cantidad de homicidios por Mes"
   ]
  },
  {
   "cell_type": "code",
   "execution_count": 15,
   "metadata": {},
   "outputs": [
    {
     "data": {
      "text/plain": [
       "1     148\n",
       "8     120\n",
       "3     119\n",
       "12    116\n",
       "4     114\n",
       "7     107\n",
       "11    104\n",
       "5     104\n",
       "2     102\n",
       "6      95\n",
       "10     91\n",
       "9      89\n",
       "Name: Mes_Infraccion, dtype: int64"
      ]
     },
     "execution_count": 15,
     "metadata": {},
     "output_type": "execute_result"
    }
   ],
   "source": [
    "homicidios_ecu[\"Mes_Infraccion\"].value_counts()"
   ]
  },
  {
   "cell_type": "markdown",
   "metadata": {},
   "source": [
    "Los meses de Enero (1), Agosto (8) y Marzo (3), fueron los meses que mas homicidios se reportaron en el 2014."
   ]
  },
  {
   "cell_type": "markdown",
   "metadata": {},
   "source": [
    "## Cantidad de homicidios por dia de la semana"
   ]
  },
  {
   "cell_type": "code",
   "execution_count": 16,
   "metadata": {},
   "outputs": [
    {
     "data": {
      "text/plain": [
       "6    240\n",
       "5    202\n",
       "4    191\n",
       "2    188\n",
       "0    179\n",
       "3    168\n",
       "1    141\n",
       "Name: Dia_Infraccion, dtype: int64"
      ]
     },
     "execution_count": 16,
     "metadata": {},
     "output_type": "execute_result"
    }
   ],
   "source": [
    "homicidios_ecu[\"Dia_Infraccion\"].value_counts()"
   ]
  },
  {
   "cell_type": "markdown",
   "metadata": {},
   "source": [
    "Teniendo en cuenta que Lunes=0 y Domingo=6, los dias con mayor cantidad de homicidios en el 2014 fueron Domingo, Sábado y Viernes."
   ]
  },
  {
   "cell_type": "markdown",
   "metadata": {},
   "source": [
    "## Gráficos del promedio de la Edad por Mes y Dia de la Semana"
   ]
  },
  {
   "cell_type": "code",
   "execution_count": 17,
   "metadata": {},
   "outputs": [
    {
     "data": {
      "image/png": "[encoded data removed]",
      "text/plain": [
       "<Figure size 432x288 with 1 Axes>"
      ]
     },
     "metadata": {
      "needs_background": "light"
     },
     "output_type": "display_data"
    }
   ],
   "source": [
    "# Gráfico del promedio de 'Edad' por Mes\n",
    "homicidios_ecu.groupby('Mes_Infraccion').mean()['Edad'].plot()\n",
    "\n",
    "plt.title(\"Fig5. Promedio de la Edad de las Personas Asesinadas por Mes\")\n",
    "plt.xlabel(\"Mes Asesinato\")\n",
    "plt.ylabel(\"Promedio Edad\");"
   ]
  },
  {
   "cell_type": "markdown",
   "metadata": {},
   "source": [
    "En Abril del 2014, la edad de las personas asesinadas fue de 37 años en promedio."
   ]
  },
  {
   "cell_type": "code",
   "execution_count": 18,
   "metadata": {},
   "outputs": [
    {
     "data": {
      "image/png": "[encoded data removed]",
      "text/plain": [
       "<Figure size 432x288 with 1 Axes>"
      ]
     },
     "metadata": {
      "needs_background": "light"
     },
     "output_type": "display_data"
    }
   ],
   "source": [
    "# Gráfico del promedio de 'Edad' por Dia de la Semana\n",
    "homicidios_ecu.groupby('Dia_Infraccion').mean()['Edad'].plot()\n",
    "\n",
    "plt.title(\"Fig6. Promedio de la Edad de las Personas Asesinadas por Dia de la Semana\")\n",
    "plt.xlabel(\"Dia Asesinato\")\n",
    "plt.ylabel(\"Promedio Edad\");"
   ]
  },
  {
   "cell_type": "markdown",
   "metadata": {},
   "source": [
    "Respecto a los días de la semana, el día jueves se registra que la edad en promedio de las personas que fueron asesinadas fue de 37 años."
   ]
  },
  {
   "cell_type": "markdown",
   "metadata": {},
   "source": [
    "## Gráfico del promedio de la Edad por Zona"
   ]
  },
  {
   "cell_type": "code",
   "execution_count": 19,
   "metadata": {},
   "outputs": [
    {
     "data": {
      "image/png": "[encoded data removed]",
      "text/plain": [
       "<Figure size 432x288 with 1 Axes>"
      ]
     },
     "metadata": {
      "needs_background": "light"
     },
     "output_type": "display_data"
    }
   ],
   "source": [
    "# Gráfico del promedio de 'Edad' por Zona\n",
    "homicidios_ecu.groupby('Zona').mean()['Edad'].plot()\n",
    "\n",
    "plt.title(\"Fig6. Promedio de la Edad de las Personas Asesinadas por Zona\")\n",
    "plt.xlabel(\"Zona\")\n",
    "plt.ylabel(\"Promedio Edad\");"
   ]
  },
  {
   "cell_type": "markdown",
   "metadata": {},
   "source": [
    "## Cantidad de homicidios por Nacionalidad y Estado Civil"
   ]
  },
  {
   "cell_type": "code",
   "execution_count": 20,
   "metadata": {},
   "outputs": [
    {
     "data": {
      "text/plain": [
       "ECUADOR                                               1269\n",
       "COLOMBIA                                                30\n",
       "PERU                                                     3\n",
       "NO DETERMINADO                                           2\n",
       "OTROS                                                    2\n",
       "CHILE                                                    1\n",
       "FRANCIA                                                  1\n",
       "REPUBLICA DOMINICANA                                     1\n",
       "Name: Nacionalidad, dtype: int64"
      ]
     },
     "execution_count": 20,
     "metadata": {},
     "output_type": "execute_result"
    }
   ],
   "source": [
    "homicidios_ecu[\"Nacionalidad\"].value_counts()"
   ]
  },
  {
   "cell_type": "markdown",
   "metadata": {},
   "source": [
    "Se aprecia que si bien la mayor cantidad de asesinatos fueron cometidos contra ciudadanos ecuatorianos, también se registran casos de otras nacionalidades tanto de América como de Europa."
   ]
  },
  {
   "cell_type": "code",
   "execution_count": 21,
   "metadata": {},
   "outputs": [
    {
     "data": {
      "text/plain": [
       "SOLTERO           938\n",
       "CASADO            227\n",
       "UNION LIBRE        53\n",
       "DIVORCIADO         42\n",
       "NO DETERMINADO     31\n",
       "VIUDO              18\n",
       "Name: Estado Civil, dtype: int64"
      ]
     },
     "execution_count": 21,
     "metadata": {},
     "output_type": "execute_result"
    }
   ],
   "source": [
    "homicidios_ecu[\"Estado Civil\"].value_counts()"
   ]
  },
  {
   "cell_type": "markdown",
   "metadata": {},
   "source": [
    "En lo que respecta al estado civil, la mayor cantidad de homicidios fueron cometidos en contra de personas solteras."
   ]
  }
 ],
 "metadata": {
  "kernelspec": {
   "display_name": "Python 3",
   "language": "python",
   "name": "python3"
  },
  "language_info": {
   "codemirror_mode": {
    "name": "ipython",
    "version": 3
   },
   "file_extension": ".py",
   "mimetype": "text/x-python",
   "name": "python",
   "nbconvert_exporter": "python",
   "pygments_lexer": "ipython3",
   "version": "3.8.2"
  }
 },
 "nbformat": 4,
 "nbformat_minor": 4
}
